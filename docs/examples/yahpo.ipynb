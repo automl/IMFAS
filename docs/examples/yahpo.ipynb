{
  "cells": [
    {
      "cell_type": "code",
      "execution_count": null,
      "metadata": {
        "collapsed": false
      },
      "outputs": [],
      "source": [
        "%matplotlib inline"
      ]
    },
    {
      "cell_type": "markdown",
      "metadata": {},
      "source": [
        "\n# YAHPO\n\n<div class=\"alert alert-danger\"><h4>Warning</h4><p>This page is under construction.</p></div>\n"
      ]
    },
    {
      "cell_type": "code",
      "execution_count": null,
      "metadata": {
        "collapsed": false
      },
      "outputs": [],
      "source": [
        "# pip install \"git+https://github.com/slds-lmu/yahpo_gym#egg=yahpo_gym&subdirectory=yahpo_gym\"\n\n\"\"\"\nopenml_ids = {\n    'lcbench': [168868, 167152, 167200, 168330, 189862, 189909, 167181, 167149, 126026, 168910,\n                167083, 167190, \\\n                189906, 146212, 189865, 167168, 168329, 189873, 34539, 189866, 167104, 189908, 3945,\n                168335,\n                126025, 189354, 126029, 167161, 167184, 189905, 168908, 167185, 167201, 7593,\n                168331],\n\n    'rbv2_svm': [40978, 40966, 42, 377, 458, 307, 1515, 1510, 16, 334, 50, 40984, 40975, 1479, 54,\n                 15, 12, 1468, 40496, \\\n                 1501, 188, 40994, 1462, 1063, 40979, 469, 22, 23381, 29, 312, 6332, 40981, 470,\n                 40499, 1480, 18,\n                 14, 11, 1494, 1049, 37, 41157, 31, 1068, 38, 40670, 23, 40982, 40900, 181, 1050,\n                 1464, 40983, 28, 1487,\n                 46, 1067, 3, 41212, 1056, 1497, 182, 375, 32, 41143, 4154, 60, 24, 44, 41146,\n                 40498, 41156, 1475, 40701, 1485, 41216, 1489, 4135, 1040, 4534, 4538, 1476, 1457,\n                 1053, 4134, 300, 1478, 40536, 1111, 1461, 41142, 1220, 41163, 41138, 1486, 41164],\n\n    'rbv2_ranger': [41157, 40984, 54, 1464, 181, 40496, 1494, 1050, 40975, 40994, 15, 1468, 1462,\n                    1063, 1510, 334, 377, \\\n                    11, 1068, 18, 40982, 37, 469, 1487, 23, 1515, 50, 458, 1480, 1067, 40966, 40983,\n                    1049, 12,\n                    1497, 40979, 31, 42, 182, 40900, 1056, 28, 1501, 40498, 16, 1479, 14, 60, 40499,\n                    44, 41146, 41156,\n                    4154, 40981, 22, 32, 1489, 1040, 3, 41216, 38, 312, 46, 29, 375, 1475, 40685,\n                    1485, 6332, 470, 40701, 41143, 41278, 41027, 24, 1457, 307, 40670, 188, 4538, 6,\n                    23381, 1053, 41163, 41165, 4134, 41212, 1478, 40536, 41142, 1476, 41161, 4534,\n                    41159, 40978, 41164, 300, 1486, 1111, 1220, 151, 41138, 40927, 4135, 41166,\n                    1590, 4541, 1461, 40668, 23517, 41162, 23512, 41168, 41150],\n\n    'rbv2_rpart': [1111, 1486, 41164, 1478, 182, 40979, 40670, 40536, 300, 4538, 4154, 1040, 41138,\n                   41212, 1468, 375, \\\n                   1476, 1485, 4134, 22, 4534, 1068, 1479, 40978, 31, 470, 11, 37, 1475, 16, 24,\n                   377, 18, 40966,\n                   40984, 23381, 1497, 40975, 1056, 458, 1501, 1063, 41162, 41142, 40900, 307, 15,\n                   41156, 14, 3, 1494,\n                   1067, 181, 44, 41163, 40983, 38, 42, 40994, 4135, 312, 1053, 29, 1510, 40701, 60,\n                   1462, 1515, 1487, 50, 41146, 6332, 40498, 41143, 1489, 54, 46, 23, 40982, 32, 28,\n                   1049, 1464, 12, 40499, 1050, 1590, 41161, 1457, 40981, 41159, 334, 1480, 41165,\n                   40496, 469, 40927, 41157, 188, 23512, 1461],\n\n    'rbv2_glmnet': [41156, 38, 40701, 60, 24, 469, 37, 23381, 15, 1464, 29, 40981, 11, 4534, 40978,\n                    40994, 458, 312, 1063, \\\n                    1489, 3, 1068, 1510, 18, 6332, 23, 41143, 470, 1462, 4538, 44, 1067, 1053, 31,\n                    1497, 41146,\n                    40983, 1494, 41212, 1040, 50, 41157, 40984, 40536, 40900, 1050, 54, 1485, 1487,\n                    40496, 1468,\n                    40975, 1049, 1480, 181, 375, 40982, 1475, 1461, 4154, 334, 377, 1590, 40966,\n                    1515, 16, 40979, 1056, 22, 182, 188, 1501, 40498, 4541, 12, 14, 40499, 1486, 42,\n                    32, 23512, 28, 307, 1479, 46, 41278, 4134, 40670, 41162, 4135, 41159, 40668,\n                    41161, 41142, 1111, 41138, 1478, 1476],\n\n    'rbv2_xgboost': [3, 54, 38, 41278, 41156, 42, 60, 41161, 375, 4154, 41216, 41162, 32, 1468, 46,\n                     1479, 50, 1497, 40982, \\\n                     1461, 41143, 41146, 40499, 300, 4534, 6332, 4135, 14, 41157, 12, 22, 40496,\n                     1478, 29, 40978, 312,\n                     40670, 469, 1476, 1487, 4134, 1590, 15, 40994, 41212, 188, 1501, 470, 377,\n                     1515, 181, 1486, 18,\n                     458, 40975, 40498, 1050, 41142, 1489, 4541, 40979, 1485, 23, 1040, 24, 1480,\n                     40701, 40966, 41159, 1049, 44, 1068, 40900, 1464, 31, 4538, 23381, 40981, 1067,\n                     1510, 182, 37, 40983, 307, 1475, 1494, 16, 41163, 11, 1111, 334, 1063, 1053,\n                     41164, 40984, 1056, 41138, 40536, 1462, 28, 40668, 41165, 1457, 1220, 41150,\n                     40927, 23512, 151, 41166],\n\n    'rbv2_aknn': [469, 181, 40496, 1464, 1462, 11, 334, 40981, 42, 1480, 18, 40994, 1063, 1068,\n                  1510, 15, 54, 50, 23381, \\\n                  307, 23, 37, 29, 470, 40975, 188, 31, 377, 6332, 22, 16, 14, 182, 375, 1501, 1515,\n                  1475, 60, 1497,\n                  4538, 12, 40979, 40499, 300, 28, 1479, 1053, 32, 41143, 1468, 312, 41212, 458,\n                  1476, 1494, 40984,\n                  1049, 4134, 4534, 1478, 1050, 40966, 40982, 41156, 1067, 1485, 40900, 40498, 1487,\n                  1489, 40983, 46, 40536, 1056, 40670, 38, 44, 41146, 40701, 3, 1457, 1040, 41142,\n                  1220, 41164, 4154, 41278, 24, 1486, 41163, 40978, 41138, 41157, 1111, 41159,\n                  41162, 41161, 41165, 1461],\n\n    'rbv2_super': [42, 377, 40966, 1510, 458, 54, 334, 40975, 15, 1462, 50, 1515, 40496, 40994, 469,\n                   40984, 1063, 40978, \\\n                   307, 16, 1468, 11, 18, 40979, 12, 1479, 1501, 37, 1480, 1464, 1068, 40981, 181,\n                   22, 29, 1494, 23381,\n                   31, 23, 188, 470, 312, 14, 6332, 1049, 40499, 41157, 1050, 40982, 1487, 40900,\n                   40983, 38, 1067, 28,\n                   1497, 182, 3, 40670, 60, 1056, 46, 375, 44, 41156, 41212, 4154, 41146, 32, 41143,\n                   24, 1489, 40498, 1475, 40701, 1040, 1485, 4538, 4534, 1053, 40536, 4134, 1478,\n                   1476, 1486, 41142, 1111, 41138, 1461],\n\n    'iaml_ranger': [1489, 41146, 40981, 1067],\n\n    'iaml_rpart': [41146, 1489, 40981, 1067],\n\n    'iaml_glmnet': [40981, 41146, 1489, 1067],\n\n    'iaml_xgboost': [41146, 1489, 1067, 40981],\n\n    'iaml_super': [41146, 1489, 40981, 1067]\n}\n\n# none of the datasets are used in all benchmarks!\nset.intersection({k: set(v) for k, v in openml_ids.items()}.values())  # rbv2 & iaml intersection!\n\nset.intersection(*[set(v) for k, v in openml_ids.items() if k != 'lcbench'])\n\niaml = set.intersection(*[set(v) for k, v in openml_ids.items() if k.startswith('iaml')])\nrbv2 = set.intersection(*[set(v) for k, v in openml_ids.items() if k.startswith('rbv2')])\nrbv2_k = [k for k in openml_ids.keys() if k.startswith('rbv2')]\niaml_k = [k for k in openml_ids.keys() if k.startswith('iaml')]\n\nfrom openml.datasets import get_dataset\nfrom openml.tasks import get_tasks, get_task\nfrom yahpo_gym import *\n\nbench = BenchmarkSet(scenario=\"lcbench\")\nbench.instances\nbench.set_instance(bench.instances[0])\n\nconfig = bench.config_space.sample_configuration(1).get_dictionary()\nfidelity_name = 'epoch'\nconfig[fidelity_name]\n# Evaluate\nprint(bench.objective_function(config))\n\ntasks = get_tasks(openml_ids['lcbench'], download_data=False)\ntask = get_task(openml_ids['lcbench'][0], download_data=False)\ndataset = get_dataset(dataset_id=task.dataset_id, download_data=False)\n\nimport pandas as pd\n\ndataset_meta_features = pd.DataFrame.from_dict({task.dataset_id: dataset.qualities}).T\n\n# TODO Algorithm meta features\n\n\n# Sample yahpo using todo latin hypercube / sobol design -- make this optional!\n# depending on the number of sobol, it might make sense to use the todo  topk sampling strategy,\n# which we already have.\nsmac.initial_design.sobol_design\nsmac.initial_design.latin_hypercube_design.LHDesign\n\n# TODO always the best performing config (raw/yahpo_data/<bench>/best_params_resnet.json)\n\n# todo configspace is here : (raw/yahpo_data/<bench>/config_space.json) (has to be refactored\n#  though!\n\n# TODO: choose either noisy or not noisy!\n\nconfigs = LHDesign(\n    cs: ConfigSpace.configuration_space.ConfigurationSpace,\n        rng: numpy.random.mtrand.RandomState = None,\n                                               traj_logger: smac.utils.io.traj_logging.TrajLogger = None,\n                                                                                                    ta_run_limit: int = 99999,\n                                                                                                                        configs:\nOptional[List[ConfigSpace.configuration_space.Configuration]] = None,\n                                                                n_configs_x_params: Optional[\n    int] = 10,\n)\n\n# Write out to\n\"\"\""
      ]
    }
  ],
  "metadata": {
    "kernelspec": {
      "display_name": "Python 3",
      "language": "python",
      "name": "python3"
    },
    "language_info": {
      "codemirror_mode": {
        "name": "ipython",
        "version": 3
      },
      "file_extension": ".py",
      "mimetype": "text/x-python",
      "name": "python",
      "nbconvert_exporter": "python",
      "pygments_lexer": "ipython3",
      "version": "3.9.12"
    }
  },
  "nbformat": 4,
  "nbformat_minor": 0
}