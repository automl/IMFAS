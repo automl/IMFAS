{
  "cells": [
    {
      "cell_type": "code",
      "execution_count": null,
      "metadata": {
        "collapsed": false
      },
      "outputs": [],
      "source": [
        "%matplotlib inline"
      ]
    },
    {
      "cell_type": "markdown",
      "metadata": {},
      "source": [
        "\n# LCBench\n\n<div class=\"alert alert-danger\"><h4>Warning</h4><p>This page is under construction.</p></div>\n"
      ]
    },
    {
      "cell_type": "code",
      "execution_count": null,
      "metadata": {
        "collapsed": false
      },
      "outputs": [],
      "source": [
        "import glob\n\nimport pandas as pd\n\nfrom api import Benchmark  # fixme LCBench.api\n\nroot = \"/home/ruhkopf/.local/share/LCBench\"\nprint(glob.glob(f\"{root}/*.json\"))\n\nbench = Benchmark(\"/home/ruhkopf/.local/share/LCBench/fashion_mnist.json\")\nnames = bench.dataset_names\ntags = bench.get_queriable_tags()  # has probably the same as below\n\nconfigs0 = {\n    i: bench.query(dataset_name=\"Fashion-MNIST\", tag=\"config_raw\", config_id=i) for i in range(2000)\n}\n\nconfigs_df0 = pd.DataFrame.from_dict(configs0, orient=\"index\")\n\n# the longer version with all the gradient information\n# ['time', 'epoch', 'Train/loss', 'Train/train_accuracy', 'Train/val_accuracy',\n# 'Train/train_cross_entropy', 'Train/val_cross_entropy',\n# 'Train/train_balanced_accuracy', 'Train/val_balanced_accuracy', '\n# Train/test_result', 'Train/test_cross_entropy', 'Train/test_balanced_accuracy',\n# 'Train/gradient_max', 'Train/gradient_mean', 'Train/gradient_median',\n# 'Train/gradient_std', 'Train/gradient_q10', 'Train/gradient_q25',\n# 'Train/gradient_q75', 'Train/gradient_q90', 'Train/layer_wise_gradient_max_layer_0',\n# 'Train/layer_wise_gradient_max_layer_1', 'Train/layer_wise_gradient_max_layer_2', '\n# Train/layer_wise_gradient_mean_layer_0', 'Train/layer_wise_gradient_mean_layer_1',\n# 'Train/layer_wise_gradient_mean_layer_2', 'Train/layer_wise_gradient_median_layer_0',\n# 'Train/layer_wise_gradient_median_layer_1', 'Train/layer_wise_gradient_median_layer_2',\n# 'Train/layer_wise_gradient_std_layer_0', 'Train/layer_wise_gradient_std_layer_1',\n# 'Train/layer_wise_gradient_std_layer_2', 'Train/layer_wise_gradient_q10_layer_0',\n# 'Train/layer_wise_gradient_q10_layer_1', 'Train/layer_wise_gradient_q10_layer_2',\n# 'Train/layer_wise_gradient_q25_layer_0', 'Train/layer_wise_gradient_q25_layer_1',\n# 'Train/layer_wise_gradient_q25_layer_2', 'Train/layer_wise_gradient_q75_layer_0',\n# 'Train/layer_wise_gradient_q75_layer_1', 'Train/layer_wise_gradient_q75_layer_2',\n# 'Train/layer_wise_gradient_q90_layer_0', 'Train/layer_wise_gradient_q90_layer_1',\n# 'Train/layer_wise_gradient_q90_layer_2', 'Train/gradient_norm', 'Train/lr',\n# 'model_parameters', 'final_train_cross_entropy', 'final_train_accuracy', '\n# final_train_balanced_accuracy', 'final_val_cross_entropy', 'final_val_accuracy',\n# 'final_val_balanced_accuracy', 'final_test_cross_entropy', 'final_test_accuracy',\n# 'final_test_balanced_accuracy', 'OpenML_task_id', 'test_split', 'budget', 'seed',\n# 'instances', 'classes', 'features', 'batch_size', 'imputation_strategy',\n# 'learning_rate_scheduler', 'loss', 'network', 'max_dropout', 'normalization_strategy',\n# 'optimizer', 'cosine_annealing_T_max', 'cosine_annealing_eta_min', 'activation',\n# 'max_units', 'mlp_shape', 'num_layers', 'learning_rate', 'momentum', 'weight_decay', 'config_raw']\nbench = Benchmark(data_dir=\"/home/ruhkopf/.local/share/LCBench/data_2k.json\")\n\n# the shorter version without all the gradient information\n# ['time', 'epoch', 'Train/loss', 'Train/train_accuracy', 'Train/val_accuracy',\n# 'Train/train_cross_entropy', 'Train/val_cross_entropy', 'Train/train_balanced_accuracy',\n# 'Train/val_balanced_accuracy', 'Train/test_result', 'Train/test_cross_entropy',\n# 'Train/test_balanced_accuracy', 'Train/lr', 'model_parameters', 'final_train_cross_entropy',\n# 'final_train_accuracy', 'final_train_balanced_accuracy', 'final_val_cross_entropy',\n# 'final_val_accuracy', 'final_val_balanced_accuracy', 'final_test_cross_entropy',\n# 'final_test_accuracy', 'final_test_balanced_accuracy', 'OpenML_task_id',\n# 'test_split', 'budget', 'seed', 'instances', 'classes', 'features', 'batch_size',\n# 'imputation_strategy', 'learning_rate_scheduler', 'loss', 'network', 'max_dropout',\n# 'normalization_strategy', 'optimizer', 'cosine_annealing_T_max', 'cosine_annealing_eta_min',\n# 'activation', 'max_units', 'mlp_shape', 'num_layers', 'learning_rate', 'momentum',\n# 'weight_decay', 'config_raw'])\nbench = Benchmark(data_dir=\"/home/ruhkopf/.local/share/LCBench/data_2k_lw.json\")\nnames = bench.dataset_names  # len: 35\ntags = bench.get_queriable_tags()\n\n# config_ids refers to the 2000 possible evaluated hp-configurations (0-1999)\nbench.query(dataset_name=\"APSFailure\", tag=\"config_raw\", config_id=20)\n\n# ! configs across datasets seem to be consistent!\ndataset_name = \"APSFailure\"\n\nconfigs = {\n    i: bench.query(dataset_name=dataset_name, tag=\"config_raw\", config_id=i) for i in range(2000)\n}\n\nconfigs_df = pd.DataFrame.from_dict(configs, orient=\"index\")\n\ndataset_name = \"Amazon_employee_access\"\nconfigs1 = {\n    i: bench.query(dataset_name=dataset_name, tag=\"config_raw\", config_id=i) for i in range(2000)\n}\n\nconfigs_df1 = pd.DataFrame.from_dict(configs1, orient=\"index\")\nassert all(configs_df1 == configs_df)\nassert all(configs_df0 == configs_df)  # mnist also same configs.\n\n\n# \"full\" dataset\nbench = Benchmark(\"/home/ruhkopf/.local/share/LCBench/bench_full.json\")\nnames = bench.dataset_names\ntags = bench.get_queriable_tags()  # produces an error.\n\n\nimport json\n\nwith open(\"/home/ruhkopf/.local/share/LCBench/meta_features.json\", \"r\") as read_file:\n    data = json.load(read_file)\n\nmeta_features = pd.DataFrame.from_dict(data, orient=\"index\")\n\nnull_share = meta_features.isnull().mean().round(4).mul(100).sort_values(ascending=False)"
      ]
    }
  ],
  "metadata": {
    "kernelspec": {
      "display_name": "Python 3",
      "language": "python",
      "name": "python3"
    },
    "language_info": {
      "codemirror_mode": {
        "name": "ipython",
        "version": 3
      },
      "file_extension": ".py",
      "mimetype": "text/x-python",
      "name": "python",
      "nbconvert_exporter": "python",
      "pygments_lexer": "ipython3",
      "version": "3.9.12"
    }
  },
  "nbformat": 4,
  "nbformat_minor": 0
}